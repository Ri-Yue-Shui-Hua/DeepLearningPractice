{
 "cells": [
  {
   "cell_type": "code",
   "execution_count": 1,
   "id": "6198735b",
   "metadata": {},
   "outputs": [
    {
     "name": "stdout",
     "output_type": "stream",
     "text": [
      "input:\n",
      "tensor([[-0.5847, -0.5550],\n",
      "        [ 0.9827, -0.1196]])\n",
      "tensor([[0.4926, 0.5074],\n",
      "        [0.7507, 0.2493]])\n"
     ]
    }
   ],
   "source": [
    "import torch\n",
    "import torch.nn as nn\n",
    "m = nn.Softmax(dim=1) #注意是沿着那个维度计算\n",
    "input = torch.randn(2,2)\n",
    "print(\"input:\")\n",
    "print(input)\n",
    "output = m(input)\n",
    "print(output)\n"
   ]
  },
  {
   "cell_type": "code",
   "execution_count": 2,
   "id": "d7e1b91f",
   "metadata": {},
   "outputs": [
    {
     "name": "stdout",
     "output_type": "stream",
     "text": [
      "tensor([0.6439, 0.2369, 0.0871, 0.0321])\n"
     ]
    }
   ],
   "source": [
    "input = torch.Tensor([-1,-2,-3,-4])\n",
    "m = nn.Softmax(dim=0) \n",
    "output = m(input)\n",
    "print(output)"
   ]
  },
  {
   "cell_type": "code",
   "execution_count": 54,
   "id": "e238d215",
   "metadata": {},
   "outputs": [],
   "source": [
    "proposal = torch.Tensor([[[172.9160,  53.1629,  46.7309,  65.8460,  44.6887,  45.3407],\n",
    "         [162.0257,  60.7390,  44.0523,  64.7651,  42.2220,  44.7367],\n",
    "         [179.0024,  53.7884,  42.4490,  67.1689,  45.3391,  48.8719],\n",
    "         [181.8581,  55.6569,  43.7422,  69.6309,  37.5283,  38.7935],\n",
    "         [173.8341,  53.7287,  45.9613,  64.6712,  44.2307,  45.5341],\n",
    "         [173.2160,  53.9935,  90.3983,  66.1348,  42.9525,  44.2509],\n",
    "         [178.6917,  55.0030,  87.7949,  68.3032,  42.4487,  46.0229],\n",
    "         [178.7652,  55.9662,  86.9395,  68.0065,  42.5493,  46.0183],\n",
    "         [179.1359,  55.0274,  87.1426,  68.3838,  42.3723,  45.8333],\n",
    "         [179.2320,  55.2510,  87.0303,  68.6657,  42.1542,  45.9588],\n",
    "         [103.9501,  55.6445,  35.6466, 148.5112,  27.0300,  35.2377],\n",
    "         [ 93.6760,  60.9326,  36.1184, 147.6433,  28.1504,  39.1108],\n",
    "         [103.6072,  55.2036,  35.6772, 149.2269,  27.2429,  35.1321],\n",
    "         [ 96.6570,  54.3819,  40.8309, 149.0087,  26.8965,  38.2263],\n",
    "         [103.1070,  55.1415,  35.9368, 149.4533,  27.1619,  35.1206],\n",
    "         [ 98.4851,  54.2000,  94.3045, 145.8950,  25.1254,  38.6844],\n",
    "         [ 99.0919,  53.7244,  99.6395, 142.1874,  24.5100,  37.1115],\n",
    "         [ 99.1681,  53.7878, 102.1708, 148.0829,  26.0536,  35.0694],\n",
    "         [ 96.6852,  56.3042,  93.9394, 150.6047,  23.3274,  36.0730],\n",
    "         [ 95.7325,  52.6799, 102.3278, 143.4821,  27.6216,  33.8230]]])"
   ]
  },
  {
   "cell_type": "code",
   "execution_count": 55,
   "id": "a9f40083",
   "metadata": {},
   "outputs": [
    {
     "data": {
      "text/plain": [
       "torch.Size([1, 20, 6])"
      ]
     },
     "execution_count": 55,
     "metadata": {},
     "output_type": "execute_result"
    }
   ],
   "source": [
    "proposal.shape"
   ]
  },
  {
   "cell_type": "code",
   "execution_count": 56,
   "id": "c05890e5",
   "metadata": {},
   "outputs": [],
   "source": [
    " proposal_class = torch.Tensor([[1, 1, 1, 1, 1, 2, 2, 2, 2, 2, 3, 3, 3, 3, 3, 4, 4, 4, 4, 4]])"
   ]
  },
  {
   "cell_type": "code",
   "execution_count": 57,
   "id": "902f1c03",
   "metadata": {},
   "outputs": [
    {
     "data": {
      "text/plain": [
       "torch.Size([1, 20])"
      ]
     },
     "execution_count": 57,
     "metadata": {},
     "output_type": "execute_result"
    }
   ],
   "source": [
    " proposal_class.shape"
   ]
  },
  {
   "cell_type": "code",
   "execution_count": 58,
   "id": "93c0aa77",
   "metadata": {},
   "outputs": [],
   "source": [
    "proposal_class = proposal_class.clone().cpu().numpy().astype(int)"
   ]
  },
  {
   "cell_type": "code",
   "execution_count": 68,
   "id": "47c45613",
   "metadata": {},
   "outputs": [
    {
     "name": "stdout",
     "output_type": "stream",
     "text": [
      "1\n",
      "2\n",
      "3\n",
      "4\n",
      "[array([ 44.587143,  55.41518 , 173.92726 ,  44.65538 ,  42.80176 ,\n",
      "        66.41642 ], dtype=float32), array([ 87.86112 ,  55.048225, 177.80817 ,  45.61684 ,  42.4954  ,\n",
      "        67.8988  ], dtype=float32), array([ 36.84198 ,  56.260822, 100.19946 ,  36.565502,  27.29634 ,\n",
      "       148.76868 ], dtype=float32), array([ 98.476395,  54.13926 ,  97.83256 ,  36.15226 ,  25.327599,\n",
      "       146.05043 ], dtype=float32)]\n"
     ]
    }
   ],
   "source": [
    " import numpy as np\n",
    "class_bbox = []\n",
    "for idx in range(proposal_class.min(), proposal_class.max()+1):\n",
    "    proposal_info = {}\n",
    "    # Find Out class_idx info\n",
    "    print(idx)\n",
    "    single_cls_idx = np.where(proposal_class[0] == idx)[-1]\n",
    "    single_proposal = proposal[:, single_cls_idx]\n",
    "    single_proposal = single_proposal[:, :, [2, 1, 0, 5, 4, 3]]\n",
    "    weighted_proposal = single_proposal.numpy()\n",
    "    single_proposal =weighted_proposal.mean(axis=1)\n",
    "    class_bbox.append(single_proposal.squeeze())\n",
    "print(class_bbox)"
   ]
  },
  {
   "cell_type": "code",
   "execution_count": 69,
   "id": "40f4c4d4",
   "metadata": {},
   "outputs": [
    {
     "data": {
      "text/plain": [
       "4"
      ]
     },
     "execution_count": 69,
     "metadata": {},
     "output_type": "execute_result"
    }
   ],
   "source": [
    "len(class_bbox)"
   ]
  },
  {
   "cell_type": "code",
   "execution_count": 65,
   "id": "b33a5e3f",
   "metadata": {},
   "outputs": [
    {
     "data": {
      "text/plain": [
       "(1, 6)"
      ]
     },
     "execution_count": 65,
     "metadata": {},
     "output_type": "execute_result"
    }
   ],
   "source": [
    "class_bbox[0].shape\n"
   ]
  },
  {
   "cell_type": "code",
   "execution_count": 64,
   "id": "8a2be818",
   "metadata": {},
   "outputs": [
    {
     "data": {
      "text/plain": [
       "array([[ 87.86112 ,  55.048225, 177.80817 ,  45.61684 ,  42.4954  ,\n",
       "         67.8988  ]], dtype=float32)"
      ]
     },
     "execution_count": 64,
     "metadata": {},
     "output_type": "execute_result"
    }
   ],
   "source": [
    "class_bbox[1]"
   ]
  },
  {
   "cell_type": "code",
   "execution_count": 32,
   "id": "88f20086",
   "metadata": {},
   "outputs": [
    {
     "data": {
      "text/plain": [
       "tensor([[[ 94.3045,  54.2000,  98.4851,  38.6844,  25.1254, 145.8950],\n",
       "         [ 99.6395,  53.7244,  99.0919,  37.1115,  24.5100, 142.1874],\n",
       "         [102.1708,  53.7878,  99.1681,  35.0694,  26.0536, 148.0829],\n",
       "         [ 93.9394,  56.3042,  96.6852,  36.0730,  23.3274, 150.6047],\n",
       "         [102.3278,  52.6799,  95.7325,  33.8230,  27.6216, 143.4821]]])"
      ]
     },
     "execution_count": 32,
     "metadata": {},
     "output_type": "execute_result"
    }
   ],
   "source": [
    "single_proposal"
   ]
  },
  {
   "cell_type": "code",
   "execution_count": 33,
   "id": "33d4ffe9",
   "metadata": {},
   "outputs": [],
   "source": [
    "weighted_proposal = single_proposal\n",
    "single_proposal =weighted_proposal.mean(axis=1)"
   ]
  },
  {
   "cell_type": "code",
   "execution_count": 34,
   "id": "7c546709",
   "metadata": {},
   "outputs": [
    {
     "data": {
      "text/plain": [
       "tensor([[ 98.4764,  54.1393,  97.8326,  36.1523,  25.3276, 146.0504]])"
      ]
     },
     "execution_count": 34,
     "metadata": {},
     "output_type": "execute_result"
    }
   ],
   "source": [
    "single_proposal"
   ]
  },
  {
   "cell_type": "code",
   "execution_count": 35,
   "id": "f7604861",
   "metadata": {},
   "outputs": [
    {
     "data": {
      "text/plain": [
       "torch.Size([1, 6])"
      ]
     },
     "execution_count": 35,
     "metadata": {},
     "output_type": "execute_result"
    }
   ],
   "source": [
    "single_proposal.shape"
   ]
  },
  {
   "cell_type": "code",
   "execution_count": 36,
   "id": "396665f8",
   "metadata": {},
   "outputs": [],
   "source": [
    "a = weighted_proposal.sum(axis=1)"
   ]
  },
  {
   "cell_type": "code",
   "execution_count": 37,
   "id": "59e7b44a",
   "metadata": {},
   "outputs": [
    {
     "data": {
      "text/plain": [
       "tensor([[492.3820, 270.6963, 489.1628, 180.7613, 126.6380, 730.2521]])"
      ]
     },
     "execution_count": 37,
     "metadata": {},
     "output_type": "execute_result"
    }
   ],
   "source": [
    "a"
   ]
  },
  {
   "cell_type": "code",
   "execution_count": 38,
   "id": "74bf6eb5",
   "metadata": {},
   "outputs": [
    {
     "data": {
      "text/plain": [
       "tensor([[ 98.4764,  54.1393,  97.8326,  36.1523,  25.3276, 146.0504]])"
      ]
     },
     "execution_count": 38,
     "metadata": {},
     "output_type": "execute_result"
    }
   ],
   "source": [
    "a/5"
   ]
  },
  {
   "cell_type": "code",
   "execution_count": null,
   "id": "da0f80e6",
   "metadata": {},
   "outputs": [],
   "source": []
  }
 ],
 "metadata": {
  "kernelspec": {
   "display_name": "Python 3 (ipykernel)",
   "language": "python",
   "name": "python3"
  },
  "language_info": {
   "codemirror_mode": {
    "name": "ipython",
    "version": 3
   },
   "file_extension": ".py",
   "mimetype": "text/x-python",
   "name": "python",
   "nbconvert_exporter": "python",
   "pygments_lexer": "ipython3",
   "version": "3.8.12"
  }
 },
 "nbformat": 4,
 "nbformat_minor": 5
}
