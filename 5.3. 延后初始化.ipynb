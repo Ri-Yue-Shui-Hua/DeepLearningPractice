{
 "cells": [
  {
   "cell_type": "code",
   "execution_count": 11,
   "id": "7bbde629",
   "metadata": {},
   "outputs": [],
   "source": [
    "from mxnet import np, npx\n",
    "from mxnet.gluon import nn\n",
    "\n",
    "npx.set_np()\n",
    "\n",
    "def get_net():\n",
    "    net = nn.Sequential()\n",
    "    net.add(nn.Dense(256, activation='relu'))\n",
    "    net.add(nn.Dense(10))\n",
    "    return net\n",
    "\n",
    "net = get_net()"
   ]
  },
  {
   "cell_type": "code",
   "execution_count": 12,
   "id": "676ba15e",
   "metadata": {},
   "outputs": [
    {
     "name": "stdout",
     "output_type": "stream",
     "text": [
      "<bound method Block.collect_params of Sequential(\n",
      "  (0): Dense(-1 -> 256, Activation(relu))\n",
      "  (1): Dense(-1 -> 10, linear)\n",
      ")>\n",
      "sequential1_ (\n",
      "  Parameter dense2_weight (shape=(256, -1), dtype=float32)\n",
      "  Parameter dense2_bias (shape=(256,), dtype=float32)\n",
      "  Parameter dense3_weight (shape=(10, -1), dtype=float32)\n",
      "  Parameter dense3_bias (shape=(10,), dtype=float32)\n",
      ")\n"
     ]
    }
   ],
   "source": [
    "print(net.collect_params)\n",
    "print(net.collect_params())"
   ]
  },
  {
   "cell_type": "code",
   "execution_count": 13,
   "id": "b1643ae7",
   "metadata": {},
   "outputs": [
    {
     "data": {
      "text/plain": [
       "sequential1_ (\n",
       "  Parameter dense2_weight (shape=(256, -1), dtype=float32)\n",
       "  Parameter dense2_bias (shape=(256,), dtype=float32)\n",
       "  Parameter dense3_weight (shape=(10, -1), dtype=float32)\n",
       "  Parameter dense3_bias (shape=(10,), dtype=float32)\n",
       ")"
      ]
     },
     "execution_count": 13,
     "metadata": {},
     "output_type": "execute_result"
    }
   ],
   "source": [
    "net.initialize()\n",
    "net.collect_params()"
   ]
  },
  {
   "cell_type": "code",
   "execution_count": 17,
   "id": "131c1885",
   "metadata": {},
   "outputs": [
    {
     "data": {
      "text/plain": [
       "sequential1_ (\n",
       "  Parameter dense2_weight (shape=(256, 20), dtype=float32)\n",
       "  Parameter dense2_bias (shape=(256,), dtype=float32)\n",
       "  Parameter dense3_weight (shape=(10, 256), dtype=float32)\n",
       "  Parameter dense3_bias (shape=(10,), dtype=float32)\n",
       ")"
      ]
     },
     "execution_count": 17,
     "metadata": {},
     "output_type": "execute_result"
    }
   ],
   "source": [
    "import mxnet as mx\n",
    "import numpy as np\n",
    "npx.set_np()\n",
    "data = np.random.uniform(size=(2,20))\n",
    "X = mx.nd.array(data).as_np_ndarray()\n",
    "net(X)\n",
    "\n",
    "net.collect_params()"
   ]
  },
  {
   "cell_type": "code",
   "execution_count": null,
   "id": "55b3d16a",
   "metadata": {},
   "outputs": [],
   "source": []
  }
 ],
 "metadata": {
  "kernelspec": {
   "display_name": "Python 3 (ipykernel)",
   "language": "python",
   "name": "python3"
  },
  "language_info": {
   "codemirror_mode": {
    "name": "ipython",
    "version": 3
   },
   "file_extension": ".py",
   "mimetype": "text/x-python",
   "name": "python",
   "nbconvert_exporter": "python",
   "pygments_lexer": "ipython3",
   "version": "3.8.12"
  }
 },
 "nbformat": 4,
 "nbformat_minor": 5
}
