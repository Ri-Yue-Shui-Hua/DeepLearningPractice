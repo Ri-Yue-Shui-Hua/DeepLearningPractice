{
 "cells": [
  {
   "cell_type": "code",
   "execution_count": 9,
   "id": "1088b7c0",
   "metadata": {},
   "outputs": [],
   "source": [
    "import torch\n",
    "import torch.nn.functional as F\n",
    "from torch import nn\n",
    "\n",
    "class CenteredLayer(nn.Module):\n",
    "    def __init__(self):\n",
    "        super().__init__()\n",
    "        \n",
    "    def forward(self, X):\n",
    "        return X - X.mean()"
   ]
  },
  {
   "cell_type": "code",
   "execution_count": 10,
   "id": "4550056d",
   "metadata": {},
   "outputs": [
    {
     "data": {
      "text/plain": [
       "tensor([-2., -1.,  0.,  1.,  2.])"
      ]
     },
     "execution_count": 10,
     "metadata": {},
     "output_type": "execute_result"
    }
   ],
   "source": [
    "layer = CenteredLayer()\n",
    "layer(torch.FloatTensor([1, 2, 3, 4, 5]))\n"
   ]
  },
  {
   "cell_type": "code",
   "execution_count": 11,
   "id": "42b81e8c",
   "metadata": {},
   "outputs": [],
   "source": [
    "net = nn.Sequential(nn.Linear(8, 128), CenteredLayer())"
   ]
  },
  {
   "cell_type": "code",
   "execution_count": 12,
   "id": "d5284f90",
   "metadata": {},
   "outputs": [
    {
     "data": {
      "text/plain": [
       "tensor(5.5879e-09, grad_fn=<MeanBackward0>)"
      ]
     },
     "execution_count": 12,
     "metadata": {},
     "output_type": "execute_result"
    }
   ],
   "source": [
    "Y = net(torch.rand(4, 8))\n",
    "Y.mean()"
   ]
  },
  {
   "cell_type": "code",
   "execution_count": 13,
   "id": "32732300",
   "metadata": {},
   "outputs": [],
   "source": [
    "class MyLinear(nn.Module):\n",
    "    def __init__(self, in_units, units):\n",
    "        super().__init__()\n",
    "        self.weight = nn.Parameter(torch.randn(in_units, units))\n",
    "        self.bias = nn.Parameter(torch.randn(units,))\n",
    "    def forward(self, X):\n",
    "        linear = torch.matmul(X, self.weight.data) + self.bias.data\n",
    "        return F.relu(linear)"
   ]
  },
  {
   "cell_type": "code",
   "execution_count": 14,
   "id": "2c25fa04",
   "metadata": {},
   "outputs": [
    {
     "data": {
      "text/plain": [
       "Parameter containing:\n",
       "tensor([[ 2.2579,  0.2359,  0.0817],\n",
       "        [ 1.0586,  0.2782,  0.2088],\n",
       "        [-1.5001,  1.0587, -0.7873],\n",
       "        [-1.2118, -0.0624,  0.6446],\n",
       "        [ 1.3206,  0.1760,  1.5502]], requires_grad=True)"
      ]
     },
     "execution_count": 14,
     "metadata": {},
     "output_type": "execute_result"
    }
   ],
   "source": [
    "linear = MyLinear(5, 3)\n",
    "linear.weight"
   ]
  },
  {
   "cell_type": "code",
   "execution_count": 15,
   "id": "1cd1bba5",
   "metadata": {},
   "outputs": [
    {
     "data": {
      "text/plain": [
       "tensor([[1.3516, 0.7494, 0.0000],\n",
       "        [0.8219, 1.3910, 0.0000]])"
      ]
     },
     "execution_count": 15,
     "metadata": {},
     "output_type": "execute_result"
    }
   ],
   "source": [
    "linear(torch.rand(2, 5))"
   ]
  },
  {
   "cell_type": "code",
   "execution_count": 17,
   "id": "75fab355",
   "metadata": {},
   "outputs": [
    {
     "data": {
      "text/plain": [
       "tensor([[15.0010],\n",
       "        [17.5599]])"
      ]
     },
     "execution_count": 17,
     "metadata": {},
     "output_type": "execute_result"
    }
   ],
   "source": [
    "net = nn.Sequential(MyLinear(64, 8), MyLinear(8, 1))\n",
    "net(torch.rand(2, 64))"
   ]
  },
  {
   "cell_type": "code",
   "execution_count": 18,
   "id": "bf1da2ff",
   "metadata": {},
   "outputs": [
    {
     "name": "stdout",
     "output_type": "stream",
     "text": [
      "tensor([[ 1.7783+0.0000j,  0.6029+0.5496j],\n",
      "        [ 0.6178+0.0000j, -0.0487-0.1845j]])\n"
     ]
    }
   ],
   "source": [
    "class HalfFFT(nn.Module):\n",
    "    def __init__(self):\n",
    "        super(HalfFFT, self).__init__()\n",
    "\n",
    "    def forward(self, X):\n",
    "        \"\"\"\n",
    "        Compute FFT and return half of it\n",
    "        :param X: size = B*L\n",
    "        :return: size = B*round(L/2)\n",
    "        \"\"\"\n",
    "        half_len = round(X.shape[1]/2)\n",
    "        X_f = torch.fft.fft(X)\n",
    "        return X_f[:, :half_len]\n",
    "\n",
    "\n",
    "myNet2 = HalfFFT()\n",
    "print(myNet2(torch.rand(2, 3)))"
   ]
  },
  {
   "cell_type": "code",
   "execution_count": 19,
   "id": "e4fd8d3a",
   "metadata": {},
   "outputs": [
    {
     "name": "stdout",
     "output_type": "stream",
     "text": [
      "tensor([[[[-0.2451]],\n",
      "\n",
      "         [[-0.3820]],\n",
      "\n",
      "         [[ 0.3166]],\n",
      "\n",
      "         [[-0.1738]],\n",
      "\n",
      "         [[ 0.4742]]]], grad_fn=<SlowConv2DBackward0>)\n"
     ]
    }
   ],
   "source": [
    "class DimensionReduction(nn.Module):\n",
    "    def __init__(self, i, j, k):\n",
    "        super(DimensionReduction, self).__init__()\n",
    "        self.net = nn.Conv2d(in_channels=1, out_channels=k, kernel_size=(i, j))\n",
    "\n",
    "    def forward(self, X, Y):\n",
    "        # 先用X和Y做矩阵乘法构成i*j矩阵，\n",
    "        # 再用卷积层快捷地实现计算功能\n",
    "        matrix = torch.bmm(x, torch.transpose(y, 1, 2))\n",
    "        matrix = matrix.unsqueeze(1)  # B*1*i*j\n",
    "        return self.net(matrix)  # B*5*i*j\n",
    "\n",
    "\n",
    "myNet1 = DimensionReduction(2, 3, 5)\n",
    "x = torch.ones(1, 2, 1)  # B*i*1\n",
    "y = torch.rand(1, 3, 1)  # B*j*1\n",
    "print(myNet1(x, y))"
   ]
  },
  {
   "cell_type": "code",
   "execution_count": null,
   "id": "0701f09a",
   "metadata": {},
   "outputs": [],
   "source": []
  }
 ],
 "metadata": {
  "kernelspec": {
   "display_name": "Python 3 (ipykernel)",
   "language": "python",
   "name": "python3"
  },
  "language_info": {
   "codemirror_mode": {
    "name": "ipython",
    "version": 3
   },
   "file_extension": ".py",
   "mimetype": "text/x-python",
   "name": "python",
   "nbconvert_exporter": "python",
   "pygments_lexer": "ipython3",
   "version": "3.8.12"
  }
 },
 "nbformat": 4,
 "nbformat_minor": 5
}
