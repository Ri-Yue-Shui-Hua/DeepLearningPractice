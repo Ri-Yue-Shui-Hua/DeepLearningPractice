{
 "cells": [
  {
   "cell_type": "code",
   "execution_count": 1,
   "id": "d375ba2a",
   "metadata": {},
   "outputs": [
    {
     "name": "stdout",
     "output_type": "stream",
     "text": [
      "(1.0, 1.0, 1.0)\n",
      "(461, 461, 680)\n"
     ]
    }
   ],
   "source": [
    "import SimpleITK as sitk\n",
    "import numpy as np\n",
    "\n",
    "file =  'D:/Dataset/full_nii/BJ_02006.nii.gz'\n",
    "itkImage = sitk.ReadImage(file)\n",
    "org_spacing = itkImage.GetSpacing()\n",
    "org_size = itkImage.GetSize()\n",
    "print(org_spacing)\n",
    "print(org_size)\n"
   ]
  },
  {
   "cell_type": "code",
   "execution_count": 4,
   "id": "5ea1b60a",
   "metadata": {},
   "outputs": [
    {
     "name": "stdout",
     "output_type": "stream",
     "text": [
      "[3.38970588 5.23863636 3.03571429]\n"
     ]
    }
   ],
   "source": [
    "new_size = (136, 88, 224)\n",
    "new_spacing = np.array(org_spacing)*np.array(org_size)/np.array(new_size)\n",
    "print(new_spacing)"
   ]
  },
  {
   "cell_type": "code",
   "execution_count": 6,
   "id": "25db6d77",
   "metadata": {},
   "outputs": [
    {
     "data": {
      "text/plain": [
       "5.238636363636363"
      ]
     },
     "execution_count": 6,
     "metadata": {},
     "output_type": "execute_result"
    }
   ],
   "source": [
    "461/88"
   ]
  },
  {
   "cell_type": "code",
   "execution_count": 7,
   "id": "fc4292da",
   "metadata": {},
   "outputs": [],
   "source": [
    "a = range(2,4)\n"
   ]
  },
  {
   "cell_type": "code",
   "execution_count": 9,
   "id": "de424b86",
   "metadata": {},
   "outputs": [
    {
     "data": {
      "text/plain": [
       "[2, 3]"
      ]
     },
     "execution_count": 9,
     "metadata": {},
     "output_type": "execute_result"
    }
   ],
   "source": [
    "list(a)"
   ]
  },
  {
   "cell_type": "code",
   "execution_count": 10,
   "id": "2dc9156c",
   "metadata": {},
   "outputs": [
    {
     "data": {
      "text/plain": [
       "range(2, 4)"
      ]
     },
     "execution_count": 10,
     "metadata": {},
     "output_type": "execute_result"
    }
   ],
   "source": [
    "a"
   ]
  },
  {
   "cell_type": "code",
   "execution_count": 12,
   "id": "1b9dddcf",
   "metadata": {},
   "outputs": [
    {
     "name": "stdout",
     "output_type": "stream",
     "text": [
      "2\n",
      "3\n"
     ]
    }
   ],
   "source": [
    "for i in range(2,4):\n",
    "    print(i)"
   ]
  },
  {
   "cell_type": "code",
   "execution_count": null,
   "id": "65261a3b",
   "metadata": {},
   "outputs": [],
   "source": []
  }
 ],
 "metadata": {
  "kernelspec": {
   "display_name": "Python 3 (ipykernel)",
   "language": "python",
   "name": "python3"
  },
  "language_info": {
   "codemirror_mode": {
    "name": "ipython",
    "version": 3
   },
   "file_extension": ".py",
   "mimetype": "text/x-python",
   "name": "python",
   "nbconvert_exporter": "python",
   "pygments_lexer": "ipython3",
   "version": "3.8.12"
  }
 },
 "nbformat": 4,
 "nbformat_minor": 5
}
